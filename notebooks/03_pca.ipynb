{
 "cells": [
  {
   "cell_type": "markdown",
   "metadata": {},
   "source": [
    "# PCA Analysis\n",
    "\n",
    "This notebook displays results from the automated PCA analysis pipeline. All computations are handled by the pipeline - this notebook focuses on narrative and visualization."
   ]
  },
  {
   "cell_type": "code",
   "execution_count": null,
   "metadata": {},
   "outputs": [],
   "source": [
    "from core.config import initialize_notebook\n",
    "import pickle\n",
    "import matplotlib.pyplot as plt\n",
    "from pathlib import Path\n",
    "\n",
    "# Initialize environment\n",
    "env = initialize_notebook(regenerate_run_id=False)\n",
    "\n",
    "# Display active research question\n",
    "research_question = env.configs.run['run_name']\n",
    "research_group_col = env.configs.data[\"columns\"][\"mapping\"][\"research_group\"]\n",
    "\n",
    "print(f\"\\n{'='*50}\")\n",
    "print(f\"Research Question: {research_question.upper()}\")\n",
    "print(f\"Group Column: {research_group_col}\")\n",
    "print(f\"{'='*50}\\n\")\n",
    "\n",
    "run_cfg = env.configs.run\n",
    "data_dir = env.repo_root / \"outputs\" / run_cfg[\"run_name\"] / run_cfg[\"run_id\"] / f\"seed_{run_cfg['seed']}\"\n",
    "pca_dir = data_dir / \"pca\"\n",
    "plots_dir = pca_dir / \"plots\"\n",
    "\n",
    "print(f\"Loading PCA results from: {pca_dir}\")"
   ]
  },
  {
   "cell_type": "code",
   "execution_count": null,
   "metadata": {},
   "outputs": [],
   "source": [
    "# Run PCA analysis if not already computed\n",
    "if not pca_dir.exists() or not (plots_dir / \"pca_scree.png\").exists():\n",
    "    print(\"PCA results not found. Running PCA analysis pipeline...\")\n",
    "    from core.pca.pipeline import run_pca_analysis\n",
    "    results = run_pca_analysis(env)\n",
    "    print(\"PCA analysis complete!\")\n",
    "else:\n",
    "    print(\"PCA results found, loading existing analysis\")"
   ]
  },
  {
   "cell_type": "markdown",
   "metadata": {},
   "source": [
    "## Variance Explained\n",
    "\n",
    "The scree plot shows how much variance each principal component captures. This helps determine the intrinsic dimensionality of the imaging data."
   ]
  },
  {
   "cell_type": "code",
   "execution_count": null,
   "metadata": {},
   "outputs": [],
   "source": [
    "# Display scree plot\n",
    "scree_plot = plots_dir / \"pca_scree.png\"\n",
    "\n",
    "if scree_plot.exists():\n",
    "    from IPython.display import Image, display\n",
    "    display(Image(str(scree_plot)))\n",
    "else:\n",
    "    print(\"Scree plot not found. Run the full pipeline first.\")"
   ]
  },
  {
   "cell_type": "markdown",
   "metadata": {},
   "source": [
    "## Group Separation in PCA Space\n",
    "\n",
    "These plots show how well the research groups separate in the reduced PCA space. Clear separation suggests the groups have distinct neuroimaging signatures."
   ]
  },
  {
   "cell_type": "code",
   "execution_count": null,
   "metadata": {},
   "outputs": [],
   "source": [
    "# Display PC1 vs PC2 plot\n",
    "pc1_pc2_plot = plots_dir / f\"pca_{research_question}_pc1_pc2.png\"\n",
    "\n",
    "if pc1_pc2_plot.exists():\n",
    "    display(Image(str(pc1_pc2_plot)))\n",
    "else:\n",
    "    print(f\"{research_question.title()} PC1 vs PC2 plot not found. Run the full pipeline first.\")"
   ]
  },
  {
   "cell_type": "code",
   "execution_count": null,
   "metadata": {},
   "outputs": [],
   "source": [
    "# Display PC2 vs PC3 plot\n",
    "pc2_pc3_plot = plots_dir / f\"pca_{research_question}_pc2_pc3.png\"\n",
    "\n",
    "if pc2_pc3_plot.exists():\n",
    "    display(Image(str(pc2_pc3_plot)))\n",
    "else:\n",
    "    print(f\"{research_question.title()} PC2 vs PC3 plot not found. Run the full pipeline first.\")"
   ]
  },
  {
   "cell_type": "markdown",
   "metadata": {},
   "source": [
    "## Summary Statistics\n",
    "\n",
    "Load and display key statistics from the PCA analysis."
   ]
  },
  {
   "cell_type": "code",
   "execution_count": null,
   "metadata": {},
   "outputs": [],
   "source": [
    "# Load PCA model and metadata\n",
    "pca_model_path = pca_dir / \"pca_model.pkl\"\n",
    "metadata_path = pca_dir / \"metadata.pkl\"\n",
    "\n",
    "if pca_model_path.exists() and metadata_path.exists():\n",
    "    with open(pca_model_path, 'rb') as f:\n",
    "        pca_model = pickle.load(f)\n",
    "    \n",
    "    with open(metadata_path, 'rb') as f:\n",
    "        metadata = pickle.load(f)\n",
    "    \n",
    "    print(\"=== PCA Analysis Summary ===\")\n",
    "    print(f\"Training samples: {len(metadata['train'][research_question]):,}\")\n",
    "    print(f\"Validation samples: {len(metadata['val'][research_question]):,}\")\n",
    "    print(f\"Test samples: {len(metadata['test'][research_question]):,}\")\n",
    "    print(f\"Total components: {pca_model.n_components_}\")\n",
    "    print(f\"Variance explained: {pca_model.explained_variance_ratio_.sum():.1%}\")\n",
    "    print(f\"Top 3 components variance: {pca_model.explained_variance_ratio_[:3].sum():.1%}\")\n",
    "    \n",
    "    # Show research group distribution\n",
    "    import pandas as pd\n",
    "    train_counts = pd.Series(metadata['train'][research_question]).value_counts()\n",
    "    val_counts = pd.Series(metadata['val'][research_question]).value_counts()\n",
    "    test_counts = pd.Series(metadata['test'][research_question]).value_counts()\n",
    "    \n",
    "    print(f\"\\n{research_question.title()} group distribution:\")\n",
    "    print(f\"  Train: {train_counts.to_dict()}\")\n",
    "    print(f\"  Val:   {val_counts.to_dict()}\")\n",
    "    print(f\"  Test:  {test_counts.to_dict()}\")\n",
    "    \n",
    "else:\n",
    "    print(\"PCA model or metadata not found. Run the full pipeline first.\")"
   ]
  },
  {
   "cell_type": "markdown",
   "metadata": {},
   "source": [
    "## Conclusion\n",
    "\n",
    "This PCA analysis demonstrates:\n",
    "\n",
    "1. **Dimensionality Reduction**: High-dimensional imaging data (~1100 features) reduced to manageable number of components while preserving variance\n",
    "2. **Group Patterns**: Visualization of research group separation in principal component space\n",
    "3. **Feature Engineering**: PCA-transformed features ready for downstream classification models (SVM, MLP)\n",
    "\n",
    "The PCA models and transformed data are saved for use in classification pipelines."
   ]
  }
 ],
 "metadata": {
  "kernelspec": {
   "display_name": "Python (abcd)",
   "language": "python",
   "name": "abcd"
  },
  "language_info": {
   "name": "python",
   "version": "3.11.13"
  }
 },
 "nbformat": 4,
 "nbformat_minor": 4
}
