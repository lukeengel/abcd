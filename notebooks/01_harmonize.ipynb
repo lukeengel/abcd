{
 "cells": [
  {
   "cell_type": "markdown",
   "id": "0",
   "metadata": {},
   "source": [
    "# 01 Harmonization\n",
    "Site effect correction using neuroHarmonize ComBat"
   ]
  },
  {
   "cell_type": "code",
   "execution_count": null,
   "id": "1",
   "metadata": {},
   "outputs": [],
   "source": [
    "from core.config import initialize_notebook\n",
    "from core.harmonize.pipeline import run_harmonization_pipeline\n",
    "import numpy as np\n",
    "\n",
    "env = initialize_notebook()"
   ]
  },
  {
   "cell_type": "code",
   "execution_count": null,
   "id": "2",
   "metadata": {},
   "outputs": [],
   "source": [
    "# Run the complete harmonization pipeline\n",
    "harmonized_results = run_harmonization_pipeline(env)\n",
    "\n",
    "print(\"Harmonization pipeline complete!\")\n",
    "print(f\"Results available: {list(harmonized_results.keys())}\")\n",
    "print(f\"Train: {harmonized_results['train'].shape}\")\n",
    "print(f\"Val: {harmonized_results['val'].shape}\")\n",
    "print(f\"Test: {harmonized_results['test'].shape}\")"
   ]
  },
  {
   "cell_type": "code",
   "execution_count": null,
   "id": "3",
   "metadata": {},
   "outputs": [],
   "source": [
    "# Optional: Validation and quality checks\n",
    "print(\"=== Validation Results ===\")\n",
    "\n",
    "# Check for NaNs\n",
    "nan_counts = {\n",
    "    'train': np.isnan(harmonized_results['train']).sum(),\n",
    "    'val': np.isnan(harmonized_results['val']).sum(), \n",
    "    'test': np.isnan(harmonized_results['test']).sum()\n",
    "}\n",
    "\n",
    "print(f\"NaN counts: {nan_counts}\")\n",
    "\n",
    "if all(count == 0 for count in nan_counts.values()):\n",
    "    print(\"✅ No NaN values found - harmonization successful!\")\n",
    "else:\n",
    "    print(\"⚠️  WARNING: NaN values detected in harmonized data\")\n",
    "\n",
    "# Data statistics\n",
    "print(f\"\\nData ranges:\")\n",
    "for split, data in harmonized_results.items():\n",
    "    if split != 'model':\n",
    "        print(f\"{split.capitalize()}: min={data.min():.3f}, max={data.max():.3f}, std={data.std():.3f}\")"
   ]
  },
  {
   "cell_type": "code",
   "execution_count": null,
   "id": "4",
   "metadata": {},
   "outputs": [],
   "source": [
    "# Show where files are saved\n",
    "run_cfg = env.configs.run\n",
    "output_dir = env.repo_root / \"outputs\" / run_cfg[\"run_name\"] / run_cfg[\"run_id\"] / f\"seed_{run_cfg['seed']}\"\n",
    "\n",
    "print(\"=== Output Locations ===\")\n",
    "print(f\"Harmonized data: {output_dir / 'harmonized'}\")\n",
    "print(f\"Harmonization model: {output_dir / 'models' / 'harmonization.pkl'}\")\n",
    "print(f\"Artifacts: {output_dir / 'artifacts'}\")\n",
    "\n",
    "# Check files exist\n",
    "harmonized_dir = output_dir / \"harmonized\" \n",
    "if harmonized_dir.exists():\n",
    "    files = list(harmonized_dir.glob(\"*.npy\"))\n",
    "    print(f\"\\nSaved harmonized files: {[f.name for f in files]}\")\n",
    "else:\n",
    "    print(\"\\nHarmonized directory not found\")"
   ]
  }
 ],
 "metadata": {
  "kernelspec": {
   "display_name": "Python (abcd)",
   "language": "python",
   "name": "abcd"
  },
  "language_info": {
   "codemirror_mode": {
    "name": "ipython",
    "version": 3
   },
   "file_extension": ".py",
   "mimetype": "text/x-python",
   "name": "python",
   "nbconvert_exporter": "python",
   "pygments_lexer": "ipython3",
   "version": "3.11.13"
  }
 },
 "nbformat": 4,
 "nbformat_minor": 5
}
