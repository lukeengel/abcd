{
 "cells": [
  {
   "cell_type": "markdown",
   "id": "da8fd52b",
   "metadata": {},
   "source": []
  }
 ],
 "metadata": {
  "language_info": {
   "name": "python"
  }
 },
 "nbformat": 4,
 "nbformat_minor": 5
}
