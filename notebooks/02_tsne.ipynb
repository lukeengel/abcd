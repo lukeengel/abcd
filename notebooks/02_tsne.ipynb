{
 "cells": [
  {
   "cell_type": "markdown",
   "metadata": {},
   "source": [
    "# t-SNE Visualization Analysis\n",
    "\n",
    "This notebook displays results from the automated t-SNE analysis pipeline. All computations are handled by the pipeline - this notebook focuses on narrative and visualization."
   ]
  },
  {
   "cell_type": "code",
   "execution_count": null,
   "metadata": {},
   "outputs": [],
   "source": [
    "from core.config import initialize_notebook\n",
    "import pickle\n",
    "import matplotlib.pyplot as plt\n",
    "from pathlib import Path\n",
    "\n",
    "# Initialize environment\n",
    "env = initialize_notebook(regenerate_run_id=False)\n",
    "\n",
    "# Display active research question\n",
    "research_question = env.configs.run['run_name']\n",
    "research_group_col = env.configs.data[\"columns\"][\"mapping\"][\"research_group\"]\n",
    "\n",
    "print(f\"\\n{'='*50}\")\n",
    "print(f\"Research Question: {research_question.upper()}\")\n",
    "print(f\"Group Column: {research_group_col}\")\n",
    "print(f\"{'='*50}\\n\")\n",
    "\n",
    "run_cfg = env.configs.run\n",
    "data_dir = env.repo_root / \"outputs\" / run_cfg[\"run_name\"] / run_cfg[\"run_id\"] / f\"seed_{run_cfg['seed']}\"\n",
    "embeddings_dir = data_dir / \"tsne_embeddings\"\n",
    "plots_dir = embeddings_dir / \"plots\"\n",
    "\n",
    "print(f\"Loading t-SNE results from: {embeddings_dir}\")"
   ]
  },
  {
   "cell_type": "code",
   "execution_count": null,
   "metadata": {},
   "outputs": [],
   "source": [
    "# Run t-SNE analysis if not already computed\n",
    "if not embeddings_dir.exists() or not (plots_dir / f\"qc_comparison_complexity{env.configs.tsne['complexity']}.png\").exists():\n",
    "    print(\"t-SNE results not found. Running t-SNE analysis pipeline...\")\n",
    "    from core.tsne.pipeline import run_tsne_analysis\n",
    "    results = run_tsne_analysis(env)\n",
    "    print(\"t-SNE analysis complete!\")\n",
    "else:\n",
    "    print(\"t-SNE results found, loading existing analysis\")"
   ]
  },
  {
   "cell_type": "markdown",
   "metadata": {},
   "source": [
    "## Quality Control Impact\n",
    "\n",
    "The first analysis shows how quality control filtering affects the overall data distribution in t-SNE space. We expect to see outliers with high surface topology defects removed after QC."
   ]
  },
  {
   "cell_type": "code",
   "execution_count": null,
   "metadata": {},
   "outputs": [],
   "source": [
    "# Display QC comparison plot\n",
    "complexity = env.configs.tsne[\"complexity\"]\n",
    "qc_plot = plots_dir / f\"qc_comparison_complexity{complexity}.png\"\n",
    "\n",
    "if qc_plot.exists():\n",
    "    from IPython.display import Image, display\n",
    "    display(Image(str(qc_plot)))\n",
    "else:\n",
    "    print(\"QC comparison plot not found. Run the full pipeline first.\")"
   ]
  },
  {
   "cell_type": "markdown",
   "metadata": {},
   "source": [
    "## Harmonization Effectiveness\n",
    "\n",
    "These plots demonstrate how harmonization reduces site effects while preserving biological signal of interest (research groups)."
   ]
  },
  {
   "cell_type": "code",
   "execution_count": null,
   "metadata": {},
   "outputs": [],
   "source": [
    "# Display harmonization impact on research groups\n",
    "group_plot = plots_dir / f\"harmonization_{research_question}_complexity{complexity}.png\"\n",
    "\n",
    "if group_plot.exists():\n",
    "    display(Image(str(group_plot)))\n",
    "else:\n",
    "    print(f\"{research_question.title()} harmonization plot not found. Run the full pipeline first.\")"
   ]
  },
  {
   "cell_type": "code",
   "execution_count": null,
   "metadata": {},
   "outputs": [],
   "source": [
    "# Display harmonization impact on scanner effects\n",
    "scanner_plot = plots_dir / f\"harmonization_scanner_complexity{complexity}.png\"\n",
    "\n",
    "if scanner_plot.exists():\n",
    "    display(Image(str(scanner_plot)))\n",
    "else:\n",
    "    print(\"Scanner harmonization plot not found. Run the full pipeline first.\")"
   ]
  },
  {
   "cell_type": "markdown",
   "metadata": {},
   "source": [
    "## Demographics Distribution\n",
    "\n",
    "These plots show how demographic variables (age, sex) are distributed in the t-SNE space before and after harmonization."
   ]
  },
  {
   "cell_type": "code",
   "execution_count": null,
   "metadata": {},
   "outputs": [],
   "source": [
    "# Display age distribution\n",
    "age_plot = plots_dir / f\"demographics_age_complexity{complexity}.png\"\n",
    "\n",
    "if age_plot.exists():\n",
    "    display(Image(str(age_plot)))\n",
    "else:\n",
    "    print(\"Age demographics plot not found. Run the full pipeline first.\")"
   ]
  },
  {
   "cell_type": "code",
   "execution_count": null,
   "metadata": {},
   "outputs": [],
   "source": [
    "# Display sex distribution\n",
    "sex_plot = plots_dir / f\"demographics_sex_complexity{complexity}.png\"\n",
    "\n",
    "if sex_plot.exists():\n",
    "    display(Image(str(sex_plot)))\n",
    "else:\n",
    "    print(\"Sex demographics plot not found. Run the full pipeline first.\")"
   ]
  },
  {
   "cell_type": "markdown",
   "metadata": {},
   "source": [
    "## Summary Statistics\n",
    "\n",
    "Load and display key statistics from the analysis."
   ]
  },
  {
   "cell_type": "code",
   "execution_count": null,
   "metadata": {},
   "outputs": [],
   "source": [
    "# Load metadata to show summary stats\n",
    "metadata_path = embeddings_dir / \"metadata.pkl\"\n",
    "\n",
    "if metadata_path.exists():\n",
    "    with open(metadata_path, 'rb') as f:\n",
    "        metadata = pickle.load(f)\n",
    "    \n",
    "    print(\"=== t-SNE Analysis Summary ===\")\n",
    "    print(f\"Pre-QC samples: {len(metadata['preqc'][research_question]):,}\")\n",
    "    print(f\"Post-QC samples: {len(metadata['postqc'][research_question]):,}\")\n",
    "    print(f\"QC removal: {len(metadata['preqc'][research_question]) - len(metadata['postqc'][research_question]):,} samples\")\n",
    "    print(f\"t-SNE complexity: {complexity}\")\n",
    "    \n",
    "    # Show research group distribution\n",
    "    import pandas as pd\n",
    "    group_counts = pd.Series(metadata['postqc'][research_question]).value_counts()\n",
    "    print(f\"\\n{research_question.title()} group distribution: {group_counts.to_dict()}\")\n",
    "    \n",
    "else:\n",
    "    print(\"Metadata not found. Run the full pipeline first.\")"
   ]
  },
  {
   "cell_type": "markdown",
   "metadata": {},
   "source": [
    "## Conclusion\n",
    "\n",
    "This analysis demonstrates:\n",
    "\n",
    "1. **Quality Control**: Effective removal of poor-quality samples with high surface topology defects\n",
    "2. **Harmonization**: Reduction of scanner-related clustering while preserving research group patterns\n",
    "3. **Demographics**: Consistent distribution of age and sex across the harmonized data\n",
    "\n",
    "The t-SNE embeddings and plots are saved for further analysis and publication."
   ]
  }
 ],
 "metadata": {
  "kernelspec": {
   "display_name": "Python (abcd)",
   "language": "python",
   "name": "abcd"
  },
  "language_info": {
   "codemirror_mode": {
    "name": "ipython",
    "version": 3
   },
   "file_extension": ".py",
   "mimetype": "text/x-python",
   "name": "python",
   "nbconvert_exporter": "python",
   "pygments_lexer": "ipython3",
   "version": "3.11.13"
  }
 },
 "nbformat": 4,
 "nbformat_minor": 4
}
