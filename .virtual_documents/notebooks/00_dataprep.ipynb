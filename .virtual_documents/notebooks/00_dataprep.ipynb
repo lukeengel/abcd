


from core.preprocess import save_datasets
baseline_shape, all_shape = save_datasets()
print(f"Baseline: {baseline_shape}, All timepoints: {all_shape}")
